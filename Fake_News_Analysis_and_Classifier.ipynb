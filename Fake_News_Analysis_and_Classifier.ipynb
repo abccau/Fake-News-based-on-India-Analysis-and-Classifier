{
 "cells": [
  {
   "cell_type": "code",
   "execution_count": 1,
   "id": "958e4536-6982-472d-b797-e877eabd7d43",
   "metadata": {},
   "outputs": [],
   "source": [
    "import re\n",
    "import nltk\n",
    "from nltk.corpus import stopwords\n",
    "from nltk.tokenize import word_tokenize\n",
    "import matplotlib.pyplot as plt\n",
    "from nltk.stem import PorterStemmer, WordNetLemmatizer\n",
    "import seaborn as sns\n",
    "from sklearn.feature_extraction.text import CountVectorizer, TfidfVectorizer\n",
    "from sklearn.model_selection import train_test_split\n",
    "from sklearn.linear_model import LogisticRegression, SGDClassifier\n",
    "from sklearn.metrics import classification_report, accuracy_score\n",
    "import transformers\n",
    "from transformers import pipeline\n",
    "import spacy\n",
    "from spacy import displacy, tokenizer\n",
    "from vaderSentiment.vaderSentiment import SentimentIntensityAnalyzer"
   ]
  },
  {
   "cell_type": "code",
   "execution_count": 2,
   "id": "14a5ea6f-7e84-4b08-ab99-0c950ba6d18e",
   "metadata": {},
   "outputs": [],
   "source": [
    "import pandas as pd"
   ]
  },
  {
   "cell_type": "code",
   "execution_count": 33,
   "id": "505fe170-c468-419e-a3e1-f794a0a045d6",
   "metadata": {},
   "outputs": [],
   "source": [
    "data = pd.read_csv(\"news_dataset.csv\")"
   ]
  },
  {
   "cell_type": "code",
   "execution_count": 34,
   "id": "24a52e86-4c59-470a-89c8-48eb81b19f99",
   "metadata": {},
   "outputs": [],
   "source": [
    "data = data.dropna(subset=['text']).reset_index(drop=True)"
   ]
  },
  {
   "cell_type": "code",
   "execution_count": 35,
   "id": "0d876342-aed6-4904-b8e0-8d2e05745176",
   "metadata": {},
   "outputs": [
    {
     "name": "stdout",
     "output_type": "stream",
     "text": [
      "<class 'pandas.core.frame.DataFrame'>\n",
      "RangeIndex: 3721 entries, 0 to 3720\n",
      "Data columns (total 2 columns):\n",
      " #   Column  Non-Null Count  Dtype \n",
      "---  ------  --------------  ----- \n",
      " 0   label   3721 non-null   object\n",
      " 1   text    3721 non-null   object\n",
      "dtypes: object(2)\n",
      "memory usage: 58.3+ KB\n"
     ]
    }
   ],
   "source": [
    "data.info()"
   ]
  },
  {
   "cell_type": "code",
   "execution_count": 36,
   "id": "c5e2caf1-07c0-418d-b7dc-bbce1124077a",
   "metadata": {},
   "outputs": [
    {
     "data": {
      "text/html": [
       "<div>\n",
       "<style scoped>\n",
       "    .dataframe tbody tr th:only-of-type {\n",
       "        vertical-align: middle;\n",
       "    }\n",
       "\n",
       "    .dataframe tbody tr th {\n",
       "        vertical-align: top;\n",
       "    }\n",
       "\n",
       "    .dataframe thead th {\n",
       "        text-align: right;\n",
       "    }\n",
       "</style>\n",
       "<table border=\"1\" class=\"dataframe\">\n",
       "  <thead>\n",
       "    <tr style=\"text-align: right;\">\n",
       "      <th></th>\n",
       "      <th>label</th>\n",
       "      <th>text</th>\n",
       "    </tr>\n",
       "  </thead>\n",
       "  <tbody>\n",
       "    <tr>\n",
       "      <th>0</th>\n",
       "      <td>REAL</td>\n",
       "      <td>Payal has accused filmmaker Anurag Kashyap of ...</td>\n",
       "    </tr>\n",
       "    <tr>\n",
       "      <th>1</th>\n",
       "      <td>FAKE</td>\n",
       "      <td>A four-minute-long video of a woman criticisin...</td>\n",
       "    </tr>\n",
       "    <tr>\n",
       "      <th>2</th>\n",
       "      <td>FAKE</td>\n",
       "      <td>Republic Poll, a fake Twitter account imitatin...</td>\n",
       "    </tr>\n",
       "    <tr>\n",
       "      <th>3</th>\n",
       "      <td>REAL</td>\n",
       "      <td>Delhi teen finds place on UN green list, turns...</td>\n",
       "    </tr>\n",
       "    <tr>\n",
       "      <th>4</th>\n",
       "      <td>REAL</td>\n",
       "      <td>Delhi: A high-level meeting underway at reside...</td>\n",
       "    </tr>\n",
       "  </tbody>\n",
       "</table>\n",
       "</div>"
      ],
      "text/plain": [
       "  label                                               text\n",
       "0  REAL  Payal has accused filmmaker Anurag Kashyap of ...\n",
       "1  FAKE  A four-minute-long video of a woman criticisin...\n",
       "2  FAKE  Republic Poll, a fake Twitter account imitatin...\n",
       "3  REAL  Delhi teen finds place on UN green list, turns...\n",
       "4  REAL  Delhi: A high-level meeting underway at reside..."
      ]
     },
     "execution_count": 36,
     "metadata": {},
     "output_type": "execute_result"
    }
   ],
   "source": [
    "data.head()"
   ]
  },
  {
   "cell_type": "code",
   "execution_count": 37,
   "id": "32dce887-4271-4275-8bdc-acb1776a323f",
   "metadata": {},
   "outputs": [],
   "source": [
    "data['punctuation'] = data.apply(lambda x: re.sub(r\"[^\\w\\s]\", \"\", x[\"text\"]), axis = 1)"
   ]
  },
  {
   "cell_type": "code",
   "execution_count": 38,
   "id": "bcdbd844-1a4f-4851-8a0b-c63d4646079e",
   "metadata": {},
   "outputs": [],
   "source": [
    "data['clean_text'] = data['punctuation'].str.lower()"
   ]
  },
  {
   "cell_type": "code",
   "execution_count": 16,
   "id": "389efc57-8284-422f-98e1-9db9c8154a6a",
   "metadata": {},
   "outputs": [
    {
     "data": {
      "text/html": [
       "<div>\n",
       "<style scoped>\n",
       "    .dataframe tbody tr th:only-of-type {\n",
       "        vertical-align: middle;\n",
       "    }\n",
       "\n",
       "    .dataframe tbody tr th {\n",
       "        vertical-align: top;\n",
       "    }\n",
       "\n",
       "    .dataframe thead th {\n",
       "        text-align: right;\n",
       "    }\n",
       "</style>\n",
       "<table border=\"1\" class=\"dataframe\">\n",
       "  <thead>\n",
       "    <tr style=\"text-align: right;\">\n",
       "      <th></th>\n",
       "      <th>label</th>\n",
       "      <th>text</th>\n",
       "      <th>clean_text</th>\n",
       "    </tr>\n",
       "  </thead>\n",
       "  <tbody>\n",
       "    <tr>\n",
       "      <th>0</th>\n",
       "      <td>REAL</td>\n",
       "      <td>Payal has accused filmmaker Anurag Kashyap of ...</td>\n",
       "      <td>payal has accused filmmaker anurag kashyap of ...</td>\n",
       "    </tr>\n",
       "    <tr>\n",
       "      <th>1</th>\n",
       "      <td>FAKE</td>\n",
       "      <td>A four-minute-long video of a woman criticisin...</td>\n",
       "      <td>a fourminutelong video of a woman criticising ...</td>\n",
       "    </tr>\n",
       "    <tr>\n",
       "      <th>2</th>\n",
       "      <td>FAKE</td>\n",
       "      <td>Republic Poll, a fake Twitter account imitatin...</td>\n",
       "      <td>republic poll a fake twitter account imitating...</td>\n",
       "    </tr>\n",
       "    <tr>\n",
       "      <th>3</th>\n",
       "      <td>REAL</td>\n",
       "      <td>Delhi teen finds place on UN green list, turns...</td>\n",
       "      <td>delhi teen finds place on un green list turns ...</td>\n",
       "    </tr>\n",
       "    <tr>\n",
       "      <th>4</th>\n",
       "      <td>REAL</td>\n",
       "      <td>Delhi: A high-level meeting underway at reside...</td>\n",
       "      <td>delhi a highlevel meeting underway at residenc...</td>\n",
       "    </tr>\n",
       "  </tbody>\n",
       "</table>\n",
       "</div>"
      ],
      "text/plain": [
       "  label                                               text  \\\n",
       "0  REAL  Payal has accused filmmaker Anurag Kashyap of ...   \n",
       "1  FAKE  A four-minute-long video of a woman criticisin...   \n",
       "2  FAKE  Republic Poll, a fake Twitter account imitatin...   \n",
       "3  REAL  Delhi teen finds place on UN green list, turns...   \n",
       "4  REAL  Delhi: A high-level meeting underway at reside...   \n",
       "\n",
       "                                          clean_text  \n",
       "0  payal has accused filmmaker anurag kashyap of ...  \n",
       "1  a fourminutelong video of a woman criticising ...  \n",
       "2  republic poll a fake twitter account imitating...  \n",
       "3  delhi teen finds place on un green list turns ...  \n",
       "4  delhi a highlevel meeting underway at residenc...  "
      ]
     },
     "execution_count": 16,
     "metadata": {},
     "output_type": "execute_result"
    }
   ],
   "source": [
    "data.head()"
   ]
  },
  {
   "cell_type": "code",
   "execution_count": 10,
   "id": "1b88b53d-bc4d-4922-87ef-e2031f3ecfbb",
   "metadata": {},
   "outputs": [],
   "source": [
    "plt.rcParams['figure.figsize'] = (12, 8)\n",
    "default_plot_colour = \"#00bfbf\""
   ]
  },
  {
   "cell_type": "code",
   "execution_count": 11,
   "id": "9544e263-f3e3-4fd4-bc34-c15e80216a58",
   "metadata": {},
   "outputs": [],
   "source": [
    "nlp = spacy.load(\"en_core_web_sm\")"
   ]
  },
  {
   "cell_type": "code",
   "execution_count": 12,
   "id": "bac30aca-fc5c-4f0e-b3a4-c1e5c13cb08d",
   "metadata": {},
   "outputs": [],
   "source": [
    "fake_news = data[data['label'] == 'FAKE']\n",
    "fact_news = data[data['label'] == 'REAL']"
   ]
  },
  {
   "cell_type": "code",
   "execution_count": 13,
   "id": "316401e9-50c7-478a-b886-0b207e3508e4",
   "metadata": {},
   "outputs": [],
   "source": [
    "fake_spacydoc = list(nlp.pipe(fake_news['clean_text']))"
   ]
  },
  {
   "cell_type": "code",
   "execution_count": 14,
   "id": "7216a545-672a-4c48-8d90-213644aa6d78",
   "metadata": {},
   "outputs": [],
   "source": [
    "fact_spacydoc = list(nlp.pipe(fact_news['clean_text']))"
   ]
  },
  {
   "cell_type": "code",
   "execution_count": 15,
   "id": "3cf6f1a7-49ab-4bf2-b04f-94f24c7ec2e8",
   "metadata": {},
   "outputs": [],
   "source": [
    "def extract_tokens(doc: spacy.tokens.doc.Doc):\n",
    "    return ([i.text, i.ent_type_, i.pos_] for i in doc)"
   ]
  },
  {
   "cell_type": "code",
   "execution_count": 16,
   "id": "3bf65195-cc38-47db-84d4-9cc24aa1af13",
   "metadata": {},
   "outputs": [],
   "source": [
    "fake_tagsdf = []\n",
    "columns = ['tokens', \"ner_tag\", \"pos_tag\"]\n",
    "\n",
    "for ix, doc in enumerate(fake_spacydoc) :\n",
    "    tags = extract_tokens(doc)\n",
    "    tags = pd.DataFrame(tags)\n",
    "    tags.columns = columns\n",
    "    fake_tagsdf.append(tags)\n",
    "\n",
    "fake_tagsdf = pd.concat(fake_tagsdf)"
   ]
  },
  {
   "cell_type": "code",
   "execution_count": 17,
   "id": "f4396c2a-5471-42a4-a039-6d09157f2c1c",
   "metadata": {},
   "outputs": [],
   "source": [
    "fact_tagsdf = []\n",
    "columns = ['tokens', 'ner_tag', 'pos_tag']\n",
    "\n",
    "for ix, doc in enumerate(fact_spacydoc) :\n",
    "    tags = extract_tokens(doc)\n",
    "    tags = pd.DataFrame(tags)\n",
    "    tags.columns = columns\n",
    "    fact_tagsdf.append(tags)\n",
    "\n",
    "fact_tagsdf = pd.concat(fact_tagsdf)"
   ]
  },
  {
   "cell_type": "code",
   "execution_count": 18,
   "id": "f88345b3-0268-4341-85b0-ab1030c217c9",
   "metadata": {},
   "outputs": [],
   "source": [
    "top_entities_fake = fake_tagsdf[fake_tagsdf['ner_tag'] != ''] \\\n",
    "                    .groupby(['tokens', 'ner_tag']).size().reset_index(name = 'counts') \\\n",
    "                    .sort_values(by = 'counts', ascending = False)\n",
    "\n",
    "top_entities_fact = fact_tagsdf[fact_tagsdf['ner_tag'] != ''] \\\n",
    "                    .groupby(['tokens', 'ner_tag']).size().reset_index(name = 'counts') \\\n",
    "                    .sort_values(by = 'counts', ascending = False)"
   ]
  },
  {
   "cell_type": "code",
   "execution_count": 19,
   "id": "eb725c15-c36f-43c0-86a4-87588c54690c",
   "metadata": {},
   "outputs": [
    {
     "data": {
      "image/png": "[encoded data removed]",
      "text/plain": [
       "<Figure size 1200x800 with 1 Axes>"
      ]
     },
     "metadata": {},
     "output_type": "display_data"
    }
   ],
   "source": [
    "sns.barplot(\n",
    "    x='counts',\n",
    "    y='tokens',\n",
    "    hue='ner_tag',\n",
    "    data=top_entities_fake.head(10),\n",
    "    orient='h',\n",
    "    dodge=False\n",
    ")\n",
    "plt.title('Most Common Entities in Fake News of INDIA')\n",
    "plt.tight_layout()\n",
    "plt.show()"
   ]
  },
  {
   "cell_type": "code",
   "execution_count": 20,
   "id": "69fe2701-98f8-4ca5-9bf3-4e8dc4f84905",
   "metadata": {},
   "outputs": [
    {
     "data": {
      "image/png": "[encoded data removed]",
      "text/plain": [
       "<Figure size 1200x800 with 1 Axes>"
      ]
     },
     "metadata": {},
     "output_type": "display_data"
    }
   ],
   "source": [
    "sns.barplot(\n",
    "    x = \"counts\",\n",
    "    y = \"tokens\",\n",
    "    hue = \"ner_tag\",\n",
    "    data = top_entities_fact.head(10),\n",
    "    orient = \"h\",\n",
    "    dodge = False\n",
    ")\n",
    "plt.title(\"Most Common Entities in Fact News of INDIA\")\n",
    "plt.tight_layout()\n",
    "plt.show()"
   ]
  },
  {
   "cell_type": "code",
   "execution_count": 39,
   "id": "ae3adc22-ed67-4489-b502-c20ed5928a71",
   "metadata": {},
   "outputs": [],
   "source": [
    "en = stopwords.words(\"english\")\n",
    "\n",
    "data[\"clean_text\"] = data[\"clean_text\"].apply(lambda x: ' '.join(word for word in x.split() if word not in en))"
   ]
  },
  {
   "cell_type": "code",
   "execution_count": 40,
   "id": "120d3db2-db21-45ae-8767-9252e6c7f1ad",
   "metadata": {},
   "outputs": [
    {
     "data": {
      "text/html": [
       "<div>\n",
       "<style scoped>\n",
       "    .dataframe tbody tr th:only-of-type {\n",
       "        vertical-align: middle;\n",
       "    }\n",
       "\n",
       "    .dataframe tbody tr th {\n",
       "        vertical-align: top;\n",
       "    }\n",
       "\n",
       "    .dataframe thead th {\n",
       "        text-align: right;\n",
       "    }\n",
       "</style>\n",
       "<table border=\"1\" class=\"dataframe\">\n",
       "  <thead>\n",
       "    <tr style=\"text-align: right;\">\n",
       "      <th></th>\n",
       "      <th>label</th>\n",
       "      <th>text</th>\n",
       "      <th>punctuation</th>\n",
       "      <th>clean_text</th>\n",
       "    </tr>\n",
       "  </thead>\n",
       "  <tbody>\n",
       "    <tr>\n",
       "      <th>0</th>\n",
       "      <td>REAL</td>\n",
       "      <td>Payal has accused filmmaker Anurag Kashyap of ...</td>\n",
       "      <td>Payal has accused filmmaker Anurag Kashyap of ...</td>\n",
       "      <td>payal accused filmmaker anurag kashyap behavin...</td>\n",
       "    </tr>\n",
       "    <tr>\n",
       "      <th>1</th>\n",
       "      <td>FAKE</td>\n",
       "      <td>A four-minute-long video of a woman criticisin...</td>\n",
       "      <td>A fourminutelong video of a woman criticising ...</td>\n",
       "      <td>fourminutelong video woman criticising governm...</td>\n",
       "    </tr>\n",
       "    <tr>\n",
       "      <th>2</th>\n",
       "      <td>FAKE</td>\n",
       "      <td>Republic Poll, a fake Twitter account imitatin...</td>\n",
       "      <td>Republic Poll a fake Twitter account imitating...</td>\n",
       "      <td>republic poll fake twitter account imitating a...</td>\n",
       "    </tr>\n",
       "    <tr>\n",
       "      <th>3</th>\n",
       "      <td>REAL</td>\n",
       "      <td>Delhi teen finds place on UN green list, turns...</td>\n",
       "      <td>Delhi teen finds place on UN green list turns ...</td>\n",
       "      <td>delhi teen finds place un green list turns gla...</td>\n",
       "    </tr>\n",
       "    <tr>\n",
       "      <th>4</th>\n",
       "      <td>REAL</td>\n",
       "      <td>Delhi: A high-level meeting underway at reside...</td>\n",
       "      <td>Delhi A highlevel meeting underway at residenc...</td>\n",
       "      <td>delhi highlevel meeting underway residence raj...</td>\n",
       "    </tr>\n",
       "  </tbody>\n",
       "</table>\n",
       "</div>"
      ],
      "text/plain": [
       "  label                                               text  \\\n",
       "0  REAL  Payal has accused filmmaker Anurag Kashyap of ...   \n",
       "1  FAKE  A four-minute-long video of a woman criticisin...   \n",
       "2  FAKE  Republic Poll, a fake Twitter account imitatin...   \n",
       "3  REAL  Delhi teen finds place on UN green list, turns...   \n",
       "4  REAL  Delhi: A high-level meeting underway at reside...   \n",
       "\n",
       "                                         punctuation  \\\n",
       "0  Payal has accused filmmaker Anurag Kashyap of ...   \n",
       "1  A fourminutelong video of a woman criticising ...   \n",
       "2  Republic Poll a fake Twitter account imitating...   \n",
       "3  Delhi teen finds place on UN green list turns ...   \n",
       "4  Delhi A highlevel meeting underway at residenc...   \n",
       "\n",
       "                                          clean_text  \n",
       "0  payal accused filmmaker anurag kashyap behavin...  \n",
       "1  fourminutelong video woman criticising governm...  \n",
       "2  republic poll fake twitter account imitating a...  \n",
       "3  delhi teen finds place un green list turns gla...  \n",
       "4  delhi highlevel meeting underway residence raj...  "
      ]
     },
     "execution_count": 40,
     "metadata": {},
     "output_type": "execute_result"
    }
   ],
   "source": [
    "data.head()"
   ]
  },
  {
   "cell_type": "code",
   "execution_count": 41,
   "id": "f3edc500-6194-48bc-92e3-fdd409e53f34",
   "metadata": {},
   "outputs": [],
   "source": [
    "data[\"clean_text\"] = data.apply(lambda x: word_tokenize(x[\"clean_text\"]), axis = 1)"
   ]
  },
  {
   "cell_type": "code",
   "execution_count": 42,
   "id": "ef7a2fe5-91f3-4399-810a-4a934ca9a05e",
   "metadata": {},
   "outputs": [],
   "source": [
    "lm = WordNetLemmatizer()\n",
    "data['clean_text'] = data[\"clean_text\"].apply(lambda x: [lm.lemmatize(token) for token in x])"
   ]
  },
  {
   "cell_type": "code",
   "execution_count": 21,
   "id": "e4c811ee-c1e7-44a4-8801-28747065c32f",
   "metadata": {},
   "outputs": [
    {
     "data": {
      "text/html": [
       "<div>\n",
       "<style scoped>\n",
       "    .dataframe tbody tr th:only-of-type {\n",
       "        vertical-align: middle;\n",
       "    }\n",
       "\n",
       "    .dataframe tbody tr th {\n",
       "        vertical-align: top;\n",
       "    }\n",
       "\n",
       "    .dataframe thead th {\n",
       "        text-align: right;\n",
       "    }\n",
       "</style>\n",
       "<table border=\"1\" class=\"dataframe\">\n",
       "  <thead>\n",
       "    <tr style=\"text-align: right;\">\n",
       "      <th></th>\n",
       "      <th>label</th>\n",
       "      <th>text</th>\n",
       "      <th>clean_text</th>\n",
       "    </tr>\n",
       "  </thead>\n",
       "  <tbody>\n",
       "    <tr>\n",
       "      <th>0</th>\n",
       "      <td>REAL</td>\n",
       "      <td>Payal has accused filmmaker Anurag Kashyap of ...</td>\n",
       "      <td>[payal, accused, filmmaker, anurag, kashyap, b...</td>\n",
       "    </tr>\n",
       "    <tr>\n",
       "      <th>1</th>\n",
       "      <td>FAKE</td>\n",
       "      <td>A four-minute-long video of a woman criticisin...</td>\n",
       "      <td>[fourminutelong, video, woman, criticising, go...</td>\n",
       "    </tr>\n",
       "    <tr>\n",
       "      <th>2</th>\n",
       "      <td>FAKE</td>\n",
       "      <td>Republic Poll, a fake Twitter account imitatin...</td>\n",
       "      <td>[republic, poll, fake, twitter, account, imita...</td>\n",
       "    </tr>\n",
       "    <tr>\n",
       "      <th>3</th>\n",
       "      <td>REAL</td>\n",
       "      <td>Delhi teen finds place on UN green list, turns...</td>\n",
       "      <td>[delhi, teen, find, place, un, green, list, tu...</td>\n",
       "    </tr>\n",
       "    <tr>\n",
       "      <th>4</th>\n",
       "      <td>REAL</td>\n",
       "      <td>Delhi: A high-level meeting underway at reside...</td>\n",
       "      <td>[delhi, highlevel, meeting, underway, residenc...</td>\n",
       "    </tr>\n",
       "  </tbody>\n",
       "</table>\n",
       "</div>"
      ],
      "text/plain": [
       "  label                                               text  \\\n",
       "0  REAL  Payal has accused filmmaker Anurag Kashyap of ...   \n",
       "1  FAKE  A four-minute-long video of a woman criticisin...   \n",
       "2  FAKE  Republic Poll, a fake Twitter account imitatin...   \n",
       "3  REAL  Delhi teen finds place on UN green list, turns...   \n",
       "4  REAL  Delhi: A high-level meeting underway at reside...   \n",
       "\n",
       "                                          clean_text  \n",
       "0  [payal, accused, filmmaker, anurag, kashyap, b...  \n",
       "1  [fourminutelong, video, woman, criticising, go...  \n",
       "2  [republic, poll, fake, twitter, account, imita...  \n",
       "3  [delhi, teen, find, place, un, green, list, tu...  \n",
       "4  [delhi, highlevel, meeting, underway, residenc...  "
      ]
     },
     "execution_count": 21,
     "metadata": {},
     "output_type": "execute_result"
    }
   ],
   "source": [
    "data.head()"
   ]
  },
  {
   "cell_type": "code",
   "execution_count": 23,
   "id": "2a9a8067-d2ae-42a4-9198-c003f0dd3bd8",
   "metadata": {},
   "outputs": [],
   "source": [
    "tokens_clean = sum(data[\"clean_text\"], [])\n",
    "\n",
    "unigrams = (pd.Series(nltk.ngrams(tokens_clean, 1)).value_counts().reset_index()[:10])"
   ]
  },
  {
   "cell_type": "code",
   "execution_count": 24,
   "id": "65650c0e-97d1-4058-946e-cb1ac8b06d98",
   "metadata": {},
   "outputs": [
    {
     "data": {
      "image/png": "[encoded data removed]",
      "text/plain": [
       "<Figure size 1200x800 with 1 Axes>"
      ]
     },
     "metadata": {},
     "output_type": "display_data"
    }
   ],
   "source": [
    "unigrams['tokens'] = unigrams['index'].apply(lambda x: x[0])\n",
    "\n",
    "sns.barplot(\n",
    "    x = \"count\", \n",
    "    y = \"tokens\",\n",
    "    data = unigrams,\n",
    "    orient = 'h',\n",
    "    hue = \"tokens\",\n",
    "    legend = False\n",
    ")\n",
    "plt.title(\"Most Common Unigrams in Overall News of INDIA\")\n",
    "plt.tight_layout()\n",
    "plt.show()"
   ]
  },
  {
   "cell_type": "code",
   "execution_count": 25,
   "id": "4da32867-54b7-42e6-969b-ce1163eed989",
   "metadata": {},
   "outputs": [],
   "source": [
    "vs = SentimentIntensityAnalyzer()"
   ]
  },
  {
   "cell_type": "code",
   "execution_count": 43,
   "id": "1dd510f0-6c58-4c83-afc2-06ac1b3a17f3",
   "metadata": {},
   "outputs": [],
   "source": [
    "data['vsentiment'] = data['punctuation'].apply(lambda x: vs.polarity_scores(x)['compound'])"
   ]
  },
  {
   "cell_type": "code",
   "execution_count": 44,
   "id": "ab8e4c9f-ad68-4f27-8a1f-49215651902b",
   "metadata": {},
   "outputs": [],
   "source": [
    "bins = [-1, -0.1, 0.1, 1]\n",
    "names = ['neative', 'neutral', 'positive']"
   ]
  },
  {
   "cell_type": "code",
   "execution_count": 45,
   "id": "ac08779d-68f9-4b77-9bb4-ff48d7580ae0",
   "metadata": {},
   "outputs": [],
   "source": [
    "data['vs_label'] = pd.cut(data['vsentiment'], bins, labels = names)"
   ]
  },
  {
   "cell_type": "code",
   "execution_count": 47,
   "id": "9010369f-c145-4354-b661-2e63cf4354fe",
   "metadata": {},
   "outputs": [
    {
     "data": {
      "image/png": "[encoded data removed]",
      "text/plain": [
       "<Figure size 1200x800 with 1 Axes>"
      ]
     },
     "metadata": {},
     "output_type": "display_data"
    }
   ],
   "source": [
    "sns.countplot(\n",
    "    x = 'label',\n",
    "    hue = 'vs_label',\n",
    "    data = data\n",
    ")\n",
    "plt.title(\"Sentiment Analysis by NEWS type\")\n",
    "plt.tight_layout()\n",
    "plt.show()"
   ]
  },
  {
   "cell_type": "code",
   "execution_count": 48,
   "id": "43af6263-8581-451d-a2c7-6e7b997a6cee",
   "metadata": {},
   "outputs": [],
   "source": [
    "X = [','.join(map(str, l)) for l in data['clean_text']]"
   ]
  },
  {
   "cell_type": "code",
   "execution_count": 49,
   "id": "472c02c2-5eea-4dc1-953c-71d74cbdf93d",
   "metadata": {},
   "outputs": [],
   "source": [
    "Y = data['label']"
   ]
  },
  {
   "cell_type": "code",
   "execution_count": 52,
   "id": "0e6aa267-7f3b-40c4-80df-deb04a7196e5",
   "metadata": {},
   "outputs": [],
   "source": [
    "cv = CountVectorizer()\n",
    "cv_fit = cv.fit_transform(X)\n",
    "bag_o_words = pd.DataFrame(cv_fit.toarray(), columns = cv.get_feature_names_out())"
   ]
  },
  {
   "cell_type": "code",
   "execution_count": 53,
   "id": "84dfd6d2-7085-41d7-8a9c-1abe4d82eedc",
   "metadata": {},
   "outputs": [],
   "source": [
    "X_train, X_test, Y_train, Y_test = train_test_split(bag_o_words, Y, test_size = 0.3)"
   ]
  },
  {
   "cell_type": "code",
   "execution_count": 54,
   "id": "790d7978-dda4-469c-b1a9-3642a451ba63",
   "metadata": {},
   "outputs": [],
   "source": [
    "lr = LogisticRegression(random_state = 0).fit(X_train, Y_train)"
   ]
  },
  {
   "cell_type": "code",
   "execution_count": 55,
   "id": "a79cd8c3-ea17-4bf5-aa26-7b0d46b550b5",
   "metadata": {},
   "outputs": [],
   "source": [
    "y_pred_lr = lr.predict(X_test)"
   ]
  },
  {
   "cell_type": "code",
   "execution_count": 56,
   "id": "85cf28a1-4f3f-4bc4-8e62-b252baf08a86",
   "metadata": {},
   "outputs": [
    {
     "data": {
      "text/plain": [
       "0.9964189794091316"
      ]
     },
     "execution_count": 56,
     "metadata": {},
     "output_type": "execute_result"
    }
   ],
   "source": [
    "accuracy_score(y_pred_lr, Y_test)"
   ]
  },
  {
   "cell_type": "code",
   "execution_count": 57,
   "id": "afd449e1-4dfb-4dcd-986f-811a06b380e3",
   "metadata": {},
   "outputs": [
    {
     "name": "stdout",
     "output_type": "stream",
     "text": [
      "              precision    recall  f1-score   support\n",
      "\n",
      "        FAKE       1.00      0.99      1.00       554\n",
      "        REAL       0.99      1.00      1.00       563\n",
      "\n",
      "    accuracy                           1.00      1117\n",
      "   macro avg       1.00      1.00      1.00      1117\n",
      "weighted avg       1.00      1.00      1.00      1117\n",
      "\n"
     ]
    }
   ],
   "source": [
    "print(classification_report(Y_test, y_pred_lr))"
   ]
  },
  {
   "cell_type": "code",
   "execution_count": 60,
   "id": "8ce1bdd8-dead-4602-ad5e-010afb9875f3",
   "metadata": {},
   "outputs": [],
   "source": [
    "svm = SGDClassifier(random_state = 0).fit(X_train, Y_train)"
   ]
  },
  {
   "cell_type": "code",
   "execution_count": 61,
   "id": "f4d7d40e-7c4a-4a0f-98b3-a36abe6f566a",
   "metadata": {},
   "outputs": [],
   "source": [
    "y_pred_svm  = svm.predict(X_test)"
   ]
  },
  {
   "cell_type": "code",
   "execution_count": 62,
   "id": "9119ec6a-730d-417a-8c03-409f3d4bae38",
   "metadata": {},
   "outputs": [
    {
     "data": {
      "text/plain": [
       "0.9964189794091316"
      ]
     },
     "execution_count": 62,
     "metadata": {},
     "output_type": "execute_result"
    }
   ],
   "source": [
    "accuracy_score(y_pred_lr, Y_test)"
   ]
  },
  {
   "cell_type": "code",
   "execution_count": 63,
   "id": "03d2ec99-149a-4995-9377-e9f4ea1fcfe3",
   "metadata": {},
   "outputs": [
    {
     "name": "stdout",
     "output_type": "stream",
     "text": [
      "              precision    recall  f1-score   support\n",
      "\n",
      "        FAKE       1.00      0.99      1.00       554\n",
      "        REAL       0.99      1.00      1.00       563\n",
      "\n",
      "    accuracy                           1.00      1117\n",
      "   macro avg       1.00      1.00      1.00      1117\n",
      "weighted avg       1.00      1.00      1.00      1117\n",
      "\n"
     ]
    }
   ],
   "source": [
    "print(classification_report(Y_test, y_pred_lr))"
   ]
  }
 ],
 "metadata": {
  "kernelspec": {
   "display_name": "Python (NumPy 1.26)",
   "language": "python",
   "name": "numpy_env"
  },
  "language_info": {
   "codemirror_mode": {
    "name": "ipython",
    "version": 3
   },
   "file_extension": ".py",
   "mimetype": "text/x-python",
   "name": "python",
   "nbconvert_exporter": "python",
   "pygments_lexer": "ipython3",
   "version": "3.11.0"
  }
 },
 "nbformat": 4,
 "nbformat_minor": 5
}
